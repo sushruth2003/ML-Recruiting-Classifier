{
 "cells": [
  {
   "cell_type": "markdown",
   "metadata": {},
   "source": [
    "# Importing the Dataset"
   ]
  },
  {
   "cell_type": "code",
   "execution_count": 4,
   "metadata": {},
   "outputs": [
    {
     "name": "stdout",
     "output_type": "stream",
     "text": [
      "(80, 14)\n",
      "Index(['Timestamp', 'Name', 'Year in School', 'Major',\n",
      "       'Second Major (if applicable)', 'Minor (if applicable)',\n",
      "       'Second Minor (if applicable)', 'GPA', 'Which team interests you?',\n",
      "       'Why does this team interest you?',\n",
      "       'How much time can you commit per week?',\n",
      "       'What value will you bring to Quant?',\n",
      "       'What do you hope to get out of Quant?',\n",
      "       '1 - no, 2 - maybe, 3 - yes, 4 - intern'],\n",
      "      dtype='object')\n"
     ]
    },
    {
     "data": {
      "text/html": [
       "<div>\n",
       "<style scoped>\n",
       "    .dataframe tbody tr th:only-of-type {\n",
       "        vertical-align: middle;\n",
       "    }\n",
       "\n",
       "    .dataframe tbody tr th {\n",
       "        vertical-align: top;\n",
       "    }\n",
       "\n",
       "    .dataframe thead th {\n",
       "        text-align: right;\n",
       "    }\n",
       "</style>\n",
       "<table border=\"1\" class=\"dataframe\">\n",
       "  <thead>\n",
       "    <tr style=\"text-align: right;\">\n",
       "      <th></th>\n",
       "      <th>Timestamp</th>\n",
       "      <th>Name</th>\n",
       "      <th>Year in School</th>\n",
       "      <th>Major</th>\n",
       "      <th>Second Major (if applicable)</th>\n",
       "      <th>Minor (if applicable)</th>\n",
       "      <th>Second Minor (if applicable)</th>\n",
       "      <th>GPA</th>\n",
       "      <th>Which team interests you?</th>\n",
       "      <th>Why does this team interest you?</th>\n",
       "      <th>How much time can you commit per week?</th>\n",
       "      <th>What value will you bring to Quant?</th>\n",
       "      <th>What do you hope to get out of Quant?</th>\n",
       "      <th>1 - no, 2 - maybe, 3 - yes, 4 - intern</th>\n",
       "    </tr>\n",
       "  </thead>\n",
       "  <tbody>\n",
       "    <tr>\n",
       "      <th>0</th>\n",
       "      <td>12/2/2021 17:41:15</td>\n",
       "      <td>Jessica Smith</td>\n",
       "      <td>Freshman</td>\n",
       "      <td>Computer Science</td>\n",
       "      <td>Mathematics</td>\n",
       "      <td>Urban Planning</td>\n",
       "      <td>NaN</td>\n",
       "      <td>4</td>\n",
       "      <td>Quantitative Research</td>\n",
       "      <td>I am interested in both Quant Research and Sof...</td>\n",
       "      <td>5 to 10 hours per week, but up to 20 depending...</td>\n",
       "      <td>I have extensive experience working on enginee...</td>\n",
       "      <td>It is extremely difficult to learn about quant...</td>\n",
       "      <td>3.0</td>\n",
       "    </tr>\n",
       "    <tr>\n",
       "      <th>1</th>\n",
       "      <td>12/2/2021 17:51:17</td>\n",
       "      <td>Teresa Aguilar</td>\n",
       "      <td>Freshman</td>\n",
       "      <td>Computer Science</td>\n",
       "      <td>NaN</td>\n",
       "      <td>Mathematics</td>\n",
       "      <td>NaN</td>\n",
       "      <td>4</td>\n",
       "      <td>Software Development</td>\n",
       "      <td>I'm interested in both the Software Developmen...</td>\n",
       "      <td>10-15 hours</td>\n",
       "      <td>The main value I'd bring to quant would be fro...</td>\n",
       "      <td>I'm hoping to gain more experience with quanti...</td>\n",
       "      <td>3.0</td>\n",
       "    </tr>\n",
       "    <tr>\n",
       "      <th>2</th>\n",
       "      <td>12/2/2021 18:00:50</td>\n",
       "      <td>Angela Miranda</td>\n",
       "      <td>Sophomore</td>\n",
       "      <td>Mathematics &amp; Computer Science</td>\n",
       "      <td>NaN</td>\n",
       "      <td>NaN</td>\n",
       "      <td>NaN</td>\n",
       "      <td>3.91</td>\n",
       "      <td>Software Development</td>\n",
       "      <td>The Software Development team interests me bec...</td>\n",
       "      <td>10-15 hours</td>\n",
       "      <td>Aside from taking most of the core CS classes ...</td>\n",
       "      <td>I'd like to learn more about system programmin...</td>\n",
       "      <td>4.0</td>\n",
       "    </tr>\n",
       "  </tbody>\n",
       "</table>\n",
       "</div>"
      ],
      "text/plain": [
       "            Timestamp            Name Year in School  \\\n",
       "0  12/2/2021 17:41:15   Jessica Smith       Freshman   \n",
       "1  12/2/2021 17:51:17  Teresa Aguilar       Freshman   \n",
       "2  12/2/2021 18:00:50  Angela Miranda      Sophomore   \n",
       "\n",
       "                            Major Second Major (if applicable)  \\\n",
       "0                Computer Science                  Mathematics   \n",
       "1                Computer Science                          NaN   \n",
       "2  Mathematics & Computer Science                          NaN   \n",
       "\n",
       "  Minor (if applicable) Second Minor (if applicable)   GPA  \\\n",
       "0        Urban Planning                          NaN     4   \n",
       "1           Mathematics                          NaN     4   \n",
       "2                   NaN                          NaN  3.91   \n",
       "\n",
       "  Which team interests you?  \\\n",
       "0     Quantitative Research   \n",
       "1      Software Development   \n",
       "2      Software Development   \n",
       "\n",
       "                    Why does this team interest you?  \\\n",
       "0  I am interested in both Quant Research and Sof...   \n",
       "1  I'm interested in both the Software Developmen...   \n",
       "2  The Software Development team interests me bec...   \n",
       "\n",
       "              How much time can you commit per week?  \\\n",
       "0  5 to 10 hours per week, but up to 20 depending...   \n",
       "1                                        10-15 hours   \n",
       "2                                        10-15 hours   \n",
       "\n",
       "                 What value will you bring to Quant?  \\\n",
       "0  I have extensive experience working on enginee...   \n",
       "1  The main value I'd bring to quant would be fro...   \n",
       "2  Aside from taking most of the core CS classes ...   \n",
       "\n",
       "               What do you hope to get out of Quant?  \\\n",
       "0  It is extremely difficult to learn about quant...   \n",
       "1  I'm hoping to gain more experience with quanti...   \n",
       "2  I'd like to learn more about system programmin...   \n",
       "\n",
       "   1 - no, 2 - maybe, 3 - yes, 4 - intern  \n",
       "0                                     3.0  \n",
       "1                                     3.0  \n",
       "2                                     4.0  "
      ]
     },
     "execution_count": 4,
     "metadata": {},
     "output_type": "execute_result"
    }
   ],
   "source": [
    "# importing the dataset as a pandas dataframe\n",
    "import pandas as pd\n",
    "df = pd.read_csv('task.csv')\n",
    "\n",
    "print(df.shape)\n",
    "print(df.columns)\n",
    "df.head(3)"
   ]
  },
  {
   "cell_type": "markdown",
   "metadata": {},
   "source": [
    "# Exploratory Data Analysis\n"
   ]
  },
  {
   "cell_type": "code",
   "execution_count": 5,
   "metadata": {},
   "outputs": [
    {
     "data": {
      "text/plain": [
       "Timestamp                                 80\n",
       "Name                                      79\n",
       "Year in School                             6\n",
       "Major                                     36\n",
       "Second Major (if applicable)               8\n",
       "Minor (if applicable)                     15\n",
       "Second Minor (if applicable)               5\n",
       "GPA                                       38\n",
       "Which team interests you?                 12\n",
       "Why does this team interest you?          80\n",
       "How much time can you commit per week?    63\n",
       "What value will you bring to Quant?       80\n",
       "What do you hope to get out of Quant?     80\n",
       "1 - no, 2 - maybe, 3 - yes, 4 - intern     4\n",
       "dtype: int64"
      ]
     },
     "execution_count": 5,
     "metadata": {},
     "output_type": "execute_result"
    }
   ],
   "source": [
    "import matplotlib.pyplot as plt\n",
    "import seaborn as sns\n",
    "df.nunique(axis=0)\n"
   ]
  },
  {
   "cell_type": "code",
   "execution_count": 6,
   "metadata": {},
   "outputs": [
    {
     "data": {
      "text/html": [
       "<div>\n",
       "<style scoped>\n",
       "    .dataframe tbody tr th:only-of-type {\n",
       "        vertical-align: middle;\n",
       "    }\n",
       "\n",
       "    .dataframe tbody tr th {\n",
       "        vertical-align: top;\n",
       "    }\n",
       "\n",
       "    .dataframe thead th {\n",
       "        text-align: right;\n",
       "    }\n",
       "</style>\n",
       "<table border=\"1\" class=\"dataframe\">\n",
       "  <thead>\n",
       "    <tr style=\"text-align: right;\">\n",
       "      <th></th>\n",
       "      <th>1 - no, 2 - maybe, 3 - yes, 4 - intern</th>\n",
       "    </tr>\n",
       "  </thead>\n",
       "  <tbody>\n",
       "    <tr>\n",
       "      <th>count</th>\n",
       "      <td>60.000000</td>\n",
       "    </tr>\n",
       "    <tr>\n",
       "      <th>mean</th>\n",
       "      <td>2.583333</td>\n",
       "    </tr>\n",
       "    <tr>\n",
       "      <th>std</th>\n",
       "      <td>0.787437</td>\n",
       "    </tr>\n",
       "    <tr>\n",
       "      <th>min</th>\n",
       "      <td>1.000000</td>\n",
       "    </tr>\n",
       "    <tr>\n",
       "      <th>25%</th>\n",
       "      <td>2.000000</td>\n",
       "    </tr>\n",
       "    <tr>\n",
       "      <th>50%</th>\n",
       "      <td>3.000000</td>\n",
       "    </tr>\n",
       "    <tr>\n",
       "      <th>75%</th>\n",
       "      <td>3.000000</td>\n",
       "    </tr>\n",
       "    <tr>\n",
       "      <th>max</th>\n",
       "      <td>4.000000</td>\n",
       "    </tr>\n",
       "  </tbody>\n",
       "</table>\n",
       "</div>"
      ],
      "text/plain": [
       "       1 - no, 2 - maybe, 3 - yes, 4 - intern\n",
       "count                               60.000000\n",
       "mean                                 2.583333\n",
       "std                                  0.787437\n",
       "min                                  1.000000\n",
       "25%                                  2.000000\n",
       "50%                                  3.000000\n",
       "75%                                  3.000000\n",
       "max                                  4.000000"
      ]
     },
     "execution_count": 6,
     "metadata": {},
     "output_type": "execute_result"
    }
   ],
   "source": [
    "df.describe()"
   ]
  },
  {
   "cell_type": "markdown",
   "metadata": {},
   "source": [
    "only one column is numeric data, so we must convert the others as necessary"
   ]
  },
  {
   "cell_type": "markdown",
   "metadata": {},
   "source": [
    "## GPA Column"
   ]
  },
  {
   "cell_type": "code",
   "execution_count": 13,
   "metadata": {},
   "outputs": [
    {
     "name": "stdout",
     "output_type": "stream",
     "text": [
      "18.75\n"
     ]
    }
   ],
   "source": [
    "# convert gpa column to floats\n",
    "\n",
    "\n",
    "df['GPA'] = pd.to_numeric(df['GPA'],errors = 'coerce')\n",
    "\n",
    "df2 = df.dropna(subset=['GPA'])\n",
    "print((abs(len(df2)-len(df)))/len(df)*100) # percentage of missing values in dataset, \n",
    "\n",
    "\n"
   ]
  },
  {
   "cell_type": "code",
   "execution_count": 15,
   "metadata": {},
   "outputs": [
    {
     "data": {
      "text/html": [
       "<div>\n",
       "<style scoped>\n",
       "    .dataframe tbody tr th:only-of-type {\n",
       "        vertical-align: middle;\n",
       "    }\n",
       "\n",
       "    .dataframe tbody tr th {\n",
       "        vertical-align: top;\n",
       "    }\n",
       "\n",
       "    .dataframe thead th {\n",
       "        text-align: right;\n",
       "    }\n",
       "</style>\n",
       "<table border=\"1\" class=\"dataframe\">\n",
       "  <thead>\n",
       "    <tr style=\"text-align: right;\">\n",
       "      <th></th>\n",
       "      <th>GPA</th>\n",
       "      <th>1 - no, 2 - maybe, 3 - yes, 4 - intern</th>\n",
       "    </tr>\n",
       "  </thead>\n",
       "  <tbody>\n",
       "    <tr>\n",
       "      <th>GPA</th>\n",
       "      <td>1.000000</td>\n",
       "      <td>0.553592</td>\n",
       "    </tr>\n",
       "    <tr>\n",
       "      <th>1 - no, 2 - maybe, 3 - yes, 4 - intern</th>\n",
       "      <td>0.553592</td>\n",
       "      <td>1.000000</td>\n",
       "    </tr>\n",
       "  </tbody>\n",
       "</table>\n",
       "</div>"
      ],
      "text/plain": [
       "                                             GPA  \\\n",
       "GPA                                     1.000000   \n",
       "1 - no, 2 - maybe, 3 - yes, 4 - intern  0.553592   \n",
       "\n",
       "                                        1 - no, 2 - maybe, 3 - yes, 4 - intern  \n",
       "GPA                                                                   0.553592  \n",
       "1 - no, 2 - maybe, 3 - yes, 4 - intern                                1.000000  "
      ]
     },
     "execution_count": 15,
     "metadata": {},
     "output_type": "execute_result"
    }
   ],
   "source": [
    "df.corr()"
   ]
  },
  {
   "cell_type": "markdown",
   "metadata": {},
   "source": [
    "Since 18.75% is a reasonable margin for error we can perform some sort of imputation to the NaN values. \n"
   ]
  },
  {
   "cell_type": "code",
   "execution_count": 16,
   "metadata": {},
   "outputs": [
    {
     "ename": "NameError",
     "evalue": "name 'np' is not defined",
     "output_type": "error",
     "traceback": [
      "\u001b[0;31m---------------------------------------------------------------------------\u001b[0m",
      "\u001b[0;31mNameError\u001b[0m                                 Traceback (most recent call last)",
      "\u001b[0;32m/var/folders/db/5w633sm52gd353hdhf9mrw980000gn/T/ipykernel_69162/2677400773.py\u001b[0m in \u001b[0;36m<module>\u001b[0;34m\u001b[0m\n\u001b[1;32m      1\u001b[0m \u001b[0;32mfrom\u001b[0m \u001b[0msklearn\u001b[0m\u001b[0;34m.\u001b[0m\u001b[0mimpute\u001b[0m \u001b[0;32mimport\u001b[0m \u001b[0mSimpleImputer\u001b[0m\u001b[0;34m\u001b[0m\u001b[0;34m\u001b[0m\u001b[0m\n\u001b[0;32m----> 2\u001b[0;31m \u001b[0mimp\u001b[0m \u001b[0;34m=\u001b[0m \u001b[0mSimpleImputer\u001b[0m\u001b[0;34m(\u001b[0m\u001b[0mmissing_values\u001b[0m\u001b[0;34m=\u001b[0m\u001b[0mnp\u001b[0m\u001b[0;34m.\u001b[0m\u001b[0mnan\u001b[0m\u001b[0;34m,\u001b[0m \u001b[0mstrategy\u001b[0m \u001b[0;34m=\u001b[0m \u001b[0;34m'mean'\u001b[0m\u001b[0;34m)\u001b[0m\u001b[0;34m\u001b[0m\u001b[0;34m\u001b[0m\u001b[0m\n\u001b[0m\u001b[1;32m      3\u001b[0m \u001b[0mimp\u001b[0m \u001b[0;34m=\u001b[0m \u001b[0mimp\u001b[0m\u001b[0;34m.\u001b[0m\u001b[0mfit\u001b[0m\u001b[0;34m(\u001b[0m\u001b[0mdf\u001b[0m\u001b[0;34m[\u001b[0m\u001b[0;34m[\u001b[0m\u001b[0;34m'GPA'\u001b[0m\u001b[0;34m]\u001b[0m\u001b[0;34m]\u001b[0m\u001b[0;34m)\u001b[0m\u001b[0;34m\u001b[0m\u001b[0;34m\u001b[0m\u001b[0m\n\u001b[1;32m      4\u001b[0m \u001b[0mdf\u001b[0m\u001b[0;34m[\u001b[0m\u001b[0;34m'GPA'\u001b[0m\u001b[0;34m]\u001b[0m \u001b[0;34m=\u001b[0m \u001b[0mimp\u001b[0m\u001b[0;34m.\u001b[0m\u001b[0mtransform\u001b[0m\u001b[0;34m(\u001b[0m\u001b[0mdf\u001b[0m\u001b[0;34m[\u001b[0m\u001b[0;34m[\u001b[0m\u001b[0;34m'GPA'\u001b[0m\u001b[0;34m]\u001b[0m\u001b[0;34m]\u001b[0m\u001b[0;34m)\u001b[0m\u001b[0;34m.\u001b[0m\u001b[0mravel\u001b[0m\u001b[0;34m(\u001b[0m\u001b[0;34m)\u001b[0m\u001b[0;34m\u001b[0m\u001b[0;34m\u001b[0m\u001b[0m\n\u001b[1;32m      5\u001b[0m \u001b[0mdf2\u001b[0m \u001b[0;34m=\u001b[0m \u001b[0mdf\u001b[0m\u001b[0;34m.\u001b[0m\u001b[0mdropna\u001b[0m\u001b[0;34m(\u001b[0m\u001b[0msubset\u001b[0m\u001b[0;34m=\u001b[0m \u001b[0;34m[\u001b[0m\u001b[0;34m'GPA'\u001b[0m\u001b[0;34m]\u001b[0m\u001b[0;34m)\u001b[0m\u001b[0;34m\u001b[0m\u001b[0;34m\u001b[0m\u001b[0m\n",
      "\u001b[0;31mNameError\u001b[0m: name 'np' is not defined"
     ]
    }
   ],
   "source": [
    "from sklearn.impute import SimpleImputer\n",
    "imp = SimpleImputer(missing_values=np.nan, strategy = 'mean')\n",
    "imp = imp.fit(df[['GPA']])\n",
    "df['GPA'] = imp.transform(df[['GPA']]).ravel()\n",
    "df2 = df.dropna(subset= ['GPA'])\n",
    "print((abs(len(df2)-len(df)))/len(df)*100) # percentage of missing values in dataset, \n",
    "# Goal is to check that all nan values have been replaced by the mean value in the datset. \n"
   ]
  },
  {
   "cell_type": "markdown",
   "metadata": {},
   "source": [
    "Note: Another possible way to do imputation is K-nearest neighbours but it seems more intuitive to use only the gpa column's data for imputation as we don't have any variables that are clearly correlated with GPA. "
   ]
  },
  {
   "cell_type": "markdown",
   "metadata": {},
   "source": [
    "## Hours Available"
   ]
  },
  {
   "cell_type": "code",
   "execution_count": 17,
   "metadata": {},
   "outputs": [
    {
     "name": "stdout",
     "output_type": "stream",
     "text": [
      "0      5\n",
      "1     10\n",
      "2     10\n",
      "3     10\n",
      "4      3\n",
      "      ..\n",
      "75    15\n",
      "76     2\n",
      "77     5\n",
      "78     6\n",
      "79    10\n",
      "Name: hours, Length: 80, dtype: object\n"
     ]
    }
   ],
   "source": [
    "df['hours']  = df['How much time can you commit per week?'] #making column easier to work with having such a wordy name is annoying\n",
    "df = df.assign(hours = lambda x: x['hours'].str.extract('(\\d+)')) # using regex to scrape out first number from the range/ single number each person gave. \n",
    "print(df['hours'])\n"
   ]
  },
  {
   "cell_type": "code",
   "execution_count": 19,
   "metadata": {},
   "outputs": [
    {
     "data": {
      "text/plain": [
       "0      5.0\n",
       "1     10.0\n",
       "2     10.0\n",
       "3     10.0\n",
       "4      3.0\n",
       "      ... \n",
       "75    15.0\n",
       "76     2.0\n",
       "77     5.0\n",
       "78     6.0\n",
       "79    10.0\n",
       "Name: hours, Length: 80, dtype: float64"
      ]
     },
     "execution_count": 19,
     "metadata": {},
     "output_type": "execute_result"
    }
   ],
   "source": [
    "# since dtype is still object, we should convert it to numerical data again for ease of use. \n",
    "df['hours'] = pd.to_numeric(df['hours'],errors = 'coerce')\n",
    "df['hours']\n"
   ]
  },
  {
   "cell_type": "code",
   "execution_count": 20,
   "metadata": {},
   "outputs": [
    {
     "name": "stdout",
     "output_type": "stream",
     "text": [
      "3.75\n"
     ]
    }
   ],
   "source": [
    "df2 = df.dropna(subset=['hours'])\n",
    "print((abs(len(df2)-len(df)))/len(df)*100) # percent of hours values that are na. "
   ]
  },
  {
   "cell_type": "markdown",
   "metadata": {},
   "source": [
    "As we can see only 3.75% of the values for the hours are NaN, therefore the column is very usable and should probably be imputed. "
   ]
  },
  {
   "cell_type": "code",
   "execution_count": null,
   "metadata": {},
   "outputs": [],
   "source": []
  }
 ],
 "metadata": {
  "interpreter": {
   "hash": "aee8b7b246df8f9039afb4144a1f6fd8d2ca17a180786b69acc140d282b71a49"
  },
  "kernelspec": {
   "display_name": "Python 3.9.7 64-bit",
   "language": "python",
   "name": "python3"
  },
  "language_info": {
   "codemirror_mode": {
    "name": "ipython",
    "version": 3
   },
   "file_extension": ".py",
   "mimetype": "text/x-python",
   "name": "python",
   "nbconvert_exporter": "python",
   "pygments_lexer": "ipython3",
   "version": "3.9.7"
  },
  "orig_nbformat": 4
 },
 "nbformat": 4,
 "nbformat_minor": 2
}
